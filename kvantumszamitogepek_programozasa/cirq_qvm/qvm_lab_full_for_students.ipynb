{
 "cells": [
  {
   "cell_type": "code",
   "id": "initial_id",
   "metadata": {
    "collapsed": true
   },
   "source": [
    "try:\n",
    "    import cirq\n",
    "    import cirq_google\n",
    "except ImportError:\n",
    "    print(\"installing cirq...\")\n",
    "    !pip install --quiet cirq-google\n",
    "    print(\"installed cirq.\")\n",
    "    import cirq\n",
    "    import cirq_google\n",
    "\n",
    "try:\n",
    "    import qsimcirq\n",
    "except ImportError:\n",
    "    print(\"installing qsimcirq...\")\n",
    "    !pip install --quiet qsimcirq\n",
    "    print(f\"installed qsimcirq.\")\n",
    "    import qsimcirq\n",
    "    \n",
    "    \n",
    "import matplotlib.pyplot as plt"
   ],
   "outputs": [],
   "execution_count": null
  },
  {
   "metadata": {},
   "cell_type": "markdown",
   "source": [
    "# QVM -- Quantum virtual machine\n",
    "+ QPU szimulátor: Google Sycamore cpu architektúra \n",
    "+ Kód átalakítása és és tesztelése valós eszközön való futtatás elött\n",
    "+ Sycamore QPU-k:\n",
    "    + Weber\n",
    "    + Rainbow "
   ],
   "id": "c274500030124820"
  },
  {
   "metadata": {},
   "cell_type": "code",
   "source": [
    "# Válassz egy processzort (\"rainbow\" or \"weber\")\n",
    "processor_id =\n",
    "\n"
   ],
   "id": "6124603cc38e4b9d",
   "outputs": [],
   "execution_count": null
  },
  {
   "metadata": {},
   "cell_type": "markdown",
   "source": [
    "# Zaj szimulációja\n",
    "+ A cirq támogatja különböző zajmodelleket\n",
    "+ A modellek létrehozhatóak mérési adatok segítségével is  "
   ],
   "id": "3c715bbc599b6da1"
  },
  {
   "metadata": {},
   "cell_type": "code",
   "source": [
    "# töltsük be a processzorhoz tartozó zajadatokat\n",
    "cal = cirq_google.engine.load_median_device_calibration()\n",
    "# Az adatokból hozzunk létre egy zaj objektumot\n",
    "noise_props = cirq_google.noise_properties_from_calibration()\n",
    "# A zaj objektumból hozzunk létre egy zajmodellt!\n",
    "noise_model = cirq_google.NoiseModelFromGoogleNoiseProperties()\n",
    "# Hozzuk létre a szimulátor objektumot a zajmodellel\n",
    "sim = qsimcirq.QSimSimulator(noise=)\n"
   ],
   "id": "1e1b3983d7c2e552",
   "outputs": [],
   "execution_count": null
  },
  {
   "metadata": {},
   "cell_type": "markdown",
   "source": "# Virutális QPU létrehozása",
   "id": "38ff27c3f7d0d7cc"
  },
  {
   "metadata": {},
   "cell_type": "code",
   "source": [
    "# Hozzunk létre az az eszköz objektumot\n",
    "device = cirq_google.engine.create_device_from_processor_id()\n",
    "# Az eddig létrehozott objektumok segítségével hozzunk létre a szimulált processzort\n",
    "sim_processor = cirq_google.engine.SimulatedLocalProcessor(\n",
    "    processor_id=, sampler=, device=, calibrations={cal.timestamp // 1000: cal}\n",
    ")\n",
    "# A szimulált processzor segítségével hozzunk létre a szimulációs engine-t\n",
    "sim_engine = cirq_google.engine.SimulatedLocalEngine([]) # Többet is meg lehet adni\n",
    "print(\n",
    "    \"A QPU \",\n",
    "    processor_id,\n",
    "    \" néven kész a következő kvantumbithálózattal:\",\n",
    "    \"\\n========================\\n\",\n",
    ")\n",
    "print(sim_engine.get_processor(processor_id).get_device())\n"
   ],
   "id": "3e5cdc023744978",
   "outputs": [],
   "execution_count": null
  },
  {
   "metadata": {},
   "cell_type": "markdown",
   "source": [
    "# A virtuális QPU tesztelése: egyszerű algoritumus futtatása \n",
    "### 1. Használható kapuk felderítése \n",
    "\n",
    "```\n",
    "device.metadata.gateset // Használható kapuk listája\n",
    "```\n",
    "\n",
    "### 2. Kis áramkör létrehozása\n",
    "\n",
    "Bármi jó DE tartalaznia kell: \n",
    "legalább egy kaput\n",
    "legalább egy mérést \n",
    "\n",
    "### 3. Áramkör futtatása \n",
    "\n",
    "```\n",
    "# Sampler objektum megszerzése:\n",
    "sam = sim_engine.get_sampler(processor_id)\n",
    "# A sampler objektum segítségével futtatás\n",
    "sam.run(qc_sajat,repetitions=valamenyi)\n",
    "\n",
    "```\n",
    "\n",
    "\n",
    "#### Feltetelek a sikeres futtatáshoz:\n",
    "+ A használt kvantumbitek legyenek lehetőleg egymás mellett amennyiben két kvantumbitre ható kaput tervez használni   \n",
    "+ Csak elfogadott kapukat használjon az áramkör"
   ],
   "id": "cb2de1f972391f6b"
  },
  {
   "metadata": {},
   "cell_type": "code",
   "source": [
    "# Derítsd ki mely kapukat lehet használni a létrehozott eszközön\n",
    "\n",
    "print(device.)\n"
   ],
   "id": "4acc344d06c9c5df",
   "outputs": [],
   "execution_count": null
  },
  {
   "metadata": {},
   "cell_type": "code",
   "source": [
    "# Hozzunk létre egy rövid példa áramkört ami:\n",
    "# két kvantumbitből áll, van benne legalább egy két kvantumbitre ható kapu, egy mérést végez legalább egy kvantumbiten \n",
    "\n",
    "circuit = cirq.Circuit()\n",
    "\n",
    "results = sim_engine.get_sampler(processor_id).run(circuit, repetitions=3000)\n",
    "\n",
    "print(results.histogram(key=\"measure\"))\n"
   ],
   "id": "112ee7b10299da18",
   "outputs": [],
   "execution_count": null
  },
  {
   "metadata": {},
   "cell_type": "markdown",
   "source": [
    "# Virtuális és valós eszközön való futtatás \n",
    "### 1. hozz létre egy függvényt ami létrehoz egy N állapotú GHZ állapotot\n",
    "\n",
    "N elemű GHZ állapot: N elemből álló összefonódott állapot \n",
    "\n",
    "### 2. futtasd a létrehozott virtuális eszközön!\n",
    "\n",
    "\n"
   ],
   "id": "e6d8ef26b93e5ab6"
  },
  {
   "metadata": {},
   "cell_type": "code",
   "source": [
    "# GHZ állapot \n",
    "\n",
    "def ghz_create(N):\n",
    "\n",
    "    return ghz_circuit\n",
    "\n",
    "\n",
    "print(ghz_create(10))\n",
    "    "
   ],
   "id": "d37c9bae8ea5fc26",
   "outputs": [],
   "execution_count": null
  },
  {
   "metadata": {},
   "cell_type": "markdown",
   "source": [
    "# Áramkör előkészítése virtuális és valós eszközhöz\n",
    "\n",
    " ### 1. áramkör transzformációja a cél kapulistára:\n",
    "\n",
    "optimize_for_target_gateset paraméterek: \n",
    "\n",
    "Áramkör \n",
    "\n",
    "context: általános beállítások (TransformerContext(deep=True))\n",
    "\n",
    "gateset: A használni kívánt kapu lista (SycamoreTargetGateset)\n",
    "\n",
    " \n",
    "### 2. Kvantumbit leképzése megadása az áramkör és az eszkör között \n",
    "\n",
    "\n"
   ],
   "id": "70362da255934473"
  },
  {
   "metadata": {},
   "cell_type": "code",
   "source": [
    "# Áramkör transzformáció \n",
    "\n",
    "translated_ghz_circuit = cirq.optimize_for_target_gateset(\n",
    "    , context=, gateset=\n",
    ")\n",
    "print(translated_ghz_circuit)"
   ],
   "id": "eeb1cde81f323fee",
   "outputs": [],
   "execution_count": null
  },
  {
   "metadata": {},
   "cell_type": "markdown",
   "source": [
    "# Qubit mapping\n",
    "\n",
    "### opció 1: kézzel\n",
    "\n",
    "```\n",
    "device_qubit_chain = [\n",
    "    cirq.GridQubit(5, 2),\n",
    "    cirq.GridQubit(5, 3),...\n",
    "]\n",
    "qubit_map = dict(zip(qubits, device_qubit_chain))\n",
    "qc.transform_qubits(lambda q: qubit_map[q])\n",
    "\n",
    "```\n",
    "\n",
    "\n",
    "### **opció 2: qubit routing**\n",
    "\n",
    "RouteCQC:\n",
    "\n",
    "Automatizált megoldás\n",
    " \n",
    "konstruktórban meg kell adni az adott eszköz kvantumbit kapcsolati gráfját (metadata.nx_graph) \n",
    "\n",
    "```\n",
    "routed_qc = router(qc)\n",
    "\n",
    "```\n"
   ],
   "id": "1fbad208342f6c4d"
  },
  {
   "metadata": {},
   "cell_type": "code",
   "source": [
    "# Hozd létre a routing objektumot\n",
    "router = cirq.RouteCQC()\n"
   ],
   "id": "8de70bf5f6377464",
   "outputs": [],
   "execution_count": null
  },
  {
   "metadata": {},
   "cell_type": "code",
   "source": [
    "# Hozd létre a routing objektum segítségével az új áramkört \n",
    "routed_circuit = router()\n",
    "print(routed_circuit)"
   ],
   "id": "4a7b7cabc009325b",
   "outputs": [],
   "execution_count": null
  },
  {
   "metadata": {},
   "cell_type": "code",
   "source": [
    "# Validáld az áramkört\n",
    "device.validate_circuit()"
   ],
   "id": "ad8e7aa61b9cd92f",
   "outputs": [],
   "execution_count": null
  },
  {
   "metadata": {},
   "cell_type": "code",
   "source": [
    "# Az új kapukat is alakítsd át a használt eszköznek megfelelően \n",
    "\n",
    "translated_routed_circuit = cirq.optimize_for_target_gateset(\n",
    "    , context=, gateset=\n",
    ")\n",
    "device.validate_circuit(translated_routed_circuit)\n",
    "print(translated_routed_circuit)"
   ],
   "id": "862a693c26b58ead",
   "outputs": [],
   "execution_count": null
  },
  {
   "metadata": {},
   "cell_type": "code",
   "source": [
    "# Futtasd az áramkört\n",
    "\n",
    "results = sim_engine.get_sampler(...).run(, repetitions=3000)\n"
   ],
   "id": "c32bb7f92c697cc3",
   "outputs": [],
   "execution_count": null
  },
  {
   "metadata": {},
   "cell_type": "code",
   "source": [
    "# Figyeld meg az eredményeket\n",
    "print(results.histogram(key=\"out\"))"
   ],
   "id": "ff051ca51eb9e46",
   "outputs": [],
   "execution_count": null
  },
  {
   "metadata": {},
   "cell_type": "code",
   "source": [
    "ax = cirq.plot_state_histogram(results.histogram(key='out'))\n",
    "ax.get_xaxis().set_ticks([])\n",
    "plt.gcf().set_size_inches(10, 4)\n",
    "plt.show(ax)\n"
   ],
   "id": "ded9e2d0c47ddba6",
   "outputs": [],
   "execution_count": null
  },
  {
   "metadata": {},
   "cell_type": "markdown",
   "source": [
    "# Komplex áramkörök QVM környezetben \n",
    "### Paramétersweep \n",
    "+ sampler-nek a run_sweep parancsa szükséges\n",
    "\n",
    "### Teleportációs és szupersűrű kódolás\n",
    "+ QVM nem támogatja a klasszikusan irányított kvantumkapukat --> Ebben az esetben a x/z.with_controlled_cbit lecserélhető egy CX/CZ kapura \n",
    "\n",
    "\n",
    "#### ProTip: \n",
    "Ha nem vagy biztos benne hogy jól müködik-e az algoritmus a hibák miatt, lenullázhatod a hibákat az\n",
    "\n",
    "`sim = qsimcirq.QSimSimulator(noise=noise_model)` --> `sim = qsimcirq.QSimSimulator(noise=None)` átalakítással"
   ],
   "id": "2176cb68f72836d5"
  },
  {
   "metadata": {},
   "cell_type": "code",
   "source": [
    "# Paramsweep implementáció\n",
    "\n",
    "import sympy\n",
    "import numpy as np\n",
    "\n",
    "\n",
    "# Hozz létre egy áramkört ahol parametrizált a forgatást hajtasz végre két választott tengely mentén. Az áramkör tartalmazzon egy mérést az 'm' kulccsal.\n",
    "\n",
    "qs = cirq.LineQubit.range(1)\n",
    "q = cirq.LineQubit(0)\n",
    "circuit = cirq.Circuit()\n",
    "\n",
    "# Hozd létre paraméter által felvehető értékteret.\n",
    "param_sweep = cirq.Linspace(\n",
    "    ,start=0,stop=np.pi,length=20\n",
    ") * cirq.Linspace(\n",
    "    ,start=0,stop=np.pi,length=20\n",
    ") \n",
    "\n",
    "\n",
    "# Futtasd a paraméter becslést ezer ismétléssel.\n",
    "routed_circuit = router(circuit)\n",
    "\n",
    "translated_routed_circuit = cirq.optimize_for_target_gateset(\n",
    "\n",
    ")\n",
    "\n",
    "results = sim_engine.get_sampler().run_sweep(, ,repetitions=1000)\n",
    "\n",
    "\n",
    "# Nézd meg az eredményt!\n",
    "x_data = [trial.params['theta'] for trial in results]\n",
    "z_data = [trial.params['theta_other'] for trial in results]\n",
    "y_data = [trial.histogram(key='m')[1] / 1000.0 for trial in results]\n",
    "\n",
    "fig = plt.figure()\n",
    "ax = fig.add_subplot(projection='3d')\n",
    "\n",
    "ax.scatter('theta','theta_other', 'p', data={'theta': x_data, 'p': y_data,'theta_other':z_data})\n",
    "plt.xlabel(\"Próbák\")\n",
    "plt.ylabel(\"Mért bit 1es állapotának frekvenciája\")\n",
    "plt.show()\n",
    "\n",
    "\n"
   ],
   "id": "793d37f4b2c3b8d0",
   "outputs": [],
   "execution_count": null
  },
  {
   "metadata": {},
   "cell_type": "code",
   "source": [
    "# Implementáld a kvantumteleportációt a QVM eszközön\n",
    "qubits = cirq.LineQubit.range(3)\n",
    "circuit = cirq.Circuit()\n",
    "\n",
    "# Entanglement \n",
    "\n",
    "# prepare state\n",
    "\n",
    "\n",
    "# correct \n",
    "\n",
    "\n",
    "# Futtasd a paraméter becslést ezer ismétléssel.\n",
    "routed_circuit = router()\n",
    "\n",
    "translated_routed_circuit = cirq.optimize_for_target_gateset(\n",
    "\n",
    ")\n",
    "\n",
    "results = sim_engine.get_sampler().run(, repetitions=3000)\n",
    "\n",
    "\n",
    "ax = cirq.plot_state_histogram(results.histogram(key='out'))\n",
    "ax.get_xaxis().set_ticks([])\n",
    "plt.gcf().set_size_inches(10, 4)\n",
    "plt.show(ax)\n",
    "\n"
   ],
   "id": "a52db414e2f499d5",
   "outputs": [],
   "execution_count": null
  },
  {
   "metadata": {},
   "cell_type": "code",
   "source": "# Implementáld a szupersűrű kódolást a QVM eszközön",
   "id": "93bae86dffaad42c",
   "outputs": [],
   "execution_count": null
  },
  {
   "metadata": {},
   "cell_type": "markdown",
   "source": [
    "### Quantum error correction codes: Megoldás a rendszer zajára \n",
    "\n",
    "Három fő lépés: \n",
    "\n",
    "### Encode \n",
    "$|\\phi>=>|\\phi\\phi\\phi>$\n",
    "\n",
    "\n",
    "### Javítás\n",
    "\n",
    "$IXI|\\phi\\phi\\phi>=>III|\\phi\\phi\\phi>$$\n",
    "\n",
    "### Decode\n",
    "$|\\phi\\phi\\phi>=>|\\phi>$\n",
    "\n"
   ],
   "id": "950ff830a968c2cc"
  },
  {
   "metadata": {},
   "cell_type": "code",
   "source": "# Implementáld a fázis-flip változás ellen védő ismétlő kódot ",
   "id": "bfb01120f8e215f5",
   "outputs": [],
   "execution_count": null
  },
  {
   "metadata": {},
   "cell_type": "code",
   "source": "# Implementáld a bitflip ellen védő ismétlő kódot",
   "id": "f5f5fb014a0da1ca",
   "outputs": [],
   "execution_count": null
  }
 ],
 "metadata": {
  "kernelspec": {
   "display_name": "Python 3",
   "language": "python",
   "name": "python3"
  },
  "language_info": {
   "codemirror_mode": {
    "name": "ipython",
    "version": 2
   },
   "file_extension": ".py",
   "mimetype": "text/x-python",
   "name": "python",
   "nbconvert_exporter": "python",
   "pygments_lexer": "ipython2",
   "version": "2.7.6"
  }
 },
 "nbformat": 4,
 "nbformat_minor": 5
}
