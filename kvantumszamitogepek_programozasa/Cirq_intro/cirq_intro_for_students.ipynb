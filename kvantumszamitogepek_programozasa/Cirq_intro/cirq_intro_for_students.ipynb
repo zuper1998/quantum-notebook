{
 "cells": [
  {
   "cell_type": "code",
   "id": "43ccf2fb3bb4cf5f",
   "metadata": {
    "id": "43ccf2fb3bb4cf5f",
    "slideshow": {
     "slide_type": "skip"
    }
   },
   "source": [
    "import numpy as np\n",
    "import matplotlib.pyplot as plt\n",
    "try:\n",
    "    import cirq\n",
    "    import cirq_google\n",
    "\n",
    "except ImportError:\n",
    "    print(\"installing cirq...\")\n",
    "    !pip install --quiet cirq\n",
    "\n",
    "    import cirq\n",
    "    import cirq_google\n",
    "    print(\"installed cirq.\")\n"
   ],
   "outputs": [],
   "execution_count": null
  },
  {
   "cell_type": "markdown",
   "id": "6af9d0857738045",
   "metadata": {
    "id": "6af9d0857738045",
    "slideshow": {
     "slide_type": "slide"
    }
   },
   "source": [
    "## Egyszerű áramkörök\n",
    "\n",
    "A cirq qiskit-hez hasonlóan műkködik első nekifutásra: Egy fő circuit objektum amihez hozzáadjuk a kapukat. A qiskit-tel szemben itt viszont nem szükséges hozzáadni a kvantumbiteket az áramkörhöz.\n",
    "\n",
    "### Kvantumbit fajták:\n",
    "Cirq-ben háromféleképen hozhatunk létre kvantumbiteket:\n",
    "+ NamedQubit: kvantumbit egyedi névvel\n",
    "+ LineQubit: Egy sor kvantumbit, ajánlott mikor N darab kvantumbitre van szükségünk, hasonló a qiskit.QuantumCircuit objektumhoz.\n",
    "+ GridQubit: négyzetrácson elhelyezett kvantumbit, valós hardveren található kvantumbitek indexelésére használt.\n",
    "\n",
    "### Kapuk:\n",
    "Qiskit-ben megismert képen működnek cirq.KAPU-val lehet létrehozni. A qiskit-el szemben a használat előtt nem kell a kvantumbiteket hozzáadni az áramkörhöz."
   ]
  },
  {
   "cell_type": "code",
   "id": "de644cafa1b87777",
   "metadata": {
    "colab": {
     "base_uri": "https://localhost:8080/"
    },
    "id": "de644cafa1b87777",
    "outputId": "b3ebe442-0d77-4539-f94a-a494688ac1df",
    "slideshow": {
     "slide_type": "subslide"
    }
   },
   "source": [
    "# Hoz létre egy GridQubit-et a 0,0 indexen\n",
    "qubit =\n",
    "\n",
    "# Hoz létre egy X kaput és egy mérőkaput\n",
    "g1 =\n",
    "m1 =\n",
    "\n",
    "# Nézd meg az elkészült áramkört!\n",
    "circuit =\n",
    "print(circuit)\n"
   ],
   "outputs": [],
   "execution_count": null
  },
  {
   "cell_type": "code",
   "id": "f63f682a6772415a",
   "metadata": {
    "colab": {
     "base_uri": "https://localhost:8080/",
     "height": 71
    },
    "id": "f63f682a6772415a",
    "outputId": "852b89b4-7916-40e7-9290-10cb20a836cd",
    "slideshow": {
     "slide_type": "subslide"
    }
   },
   "source": [
    "# Használd a `SVGCircuit` metódust egy szebb megjelenítéshez!\n",
    "from cirq.contrib.svg import SVGCircuit\n",
    "\n"
   ],
   "outputs": [],
   "execution_count": null
  },
  {
   "cell_type": "markdown",
   "id": "42641189bdb123ff",
   "metadata": {
    "id": "42641189bdb123ff",
    "slideshow": {
     "slide_type": "slide"
    }
   },
   "source": [
    "### Kvantumbitek\n",
    "Cirq-ben háromféleképen hozhatunk létre kvantumbiteket:\n",
    "+ NamedQubit: kvantumbit egyedi névvel\n",
    "+ LineQubit: Egy sor kvantumbit, ajánlott mikor N darab kvantumbitre van szükségünk, hasonló a qiskit.QuantumCircuit objektumhoz.\n",
    "+ GridQubit: négyzetrácson elhelyezett kvantumbit, valós hardveren található kvantumbitek indexelésére használt.\n"
   ]
  },
  {
   "cell_type": "code",
   "id": "7607c068c9825158",
   "metadata": {
    "colab": {
     "base_uri": "https://localhost:8080/"
    },
    "id": "7607c068c9825158",
    "outputId": "3a8f5958-9bca-4994-a08e-00753f6c85cc",
    "slideshow": {
     "slide_type": "subslide"
    }
   },
   "source": [
    "# Hozz létre egy kvantumbitet egyedi névvel\n",
    "q1 =\n",
    "print(q1)"
   ],
   "outputs": [],
   "execution_count": null
  },
  {
   "cell_type": "code",
   "id": "5e197641e7d3298",
   "metadata": {
    "colab": {
     "base_uri": "https://localhost:8080/"
    },
    "id": "5e197641e7d3298",
    "outputId": "7c47db70-d8e3-4715-f5ca-17f4b212f1db",
    "slideshow": {
     "slide_type": "subslide"
    }
   },
   "source": [
    "# Hozz létre 3 kvantumbitet a LineQubit range funkciójával\n",
    "q2, q3, q4 =\n",
    "\n",
    "print(q2,q3,q4)"
   ],
   "outputs": [],
   "execution_count": null
  },
  {
   "cell_type": "code",
   "id": "e433420200373cc5",
   "metadata": {
    "colab": {
     "base_uri": "https://localhost:8080/"
    },
    "id": "e433420200373cc5",
    "outputId": "2e07e216-e5b5-4c5d-f3d0-5a1bb0d2a8d2",
    "slideshow": {
     "slide_type": "subslide"
    }
   },
   "source": [
    "# Hozz létre egy kvantumbitet a 3,2 indexen\n",
    "q5 =\n",
    "\n",
    "print(q5)"
   ],
   "outputs": [],
   "execution_count": null
  },
  {
   "cell_type": "code",
   "id": "f9e275217c0094f0",
   "metadata": {
    "colab": {
     "base_uri": "https://localhost:8080/"
    },
    "id": "f9e275217c0094f0",
    "outputId": "16a74cd8-d427-4f59-fdce-25ed98b37f70",
    "slideshow": {
     "slide_type": "subslide"
    }
   },
   "source": [
    "# Hozz létre több kvantumbitet egy négyzet alakban a GridQubit square funkciójával\n",
    "zet4 =\n",
    "\n",
    "print(zet4)"
   ],
   "outputs": [],
   "execution_count": null
  },
  {
   "cell_type": "code",
   "id": "d2ce33eed92c6abb",
   "metadata": {
    "id": "d2ce33eed92c6abb",
    "slideshow": {
     "slide_type": "subslide"
    }
   },
   "source": [
    "# Nézd meg milyen más funkciók léteznek a GridQubit-hoz amiben több kvantumbitet is létrehozunk. Használd az egyiket.\n",
    "\n",
    "\n"
   ],
   "outputs": [],
   "execution_count": null
  },
  {
   "cell_type": "code",
   "id": "2a3c6b38137e19c",
   "metadata": {
    "colab": {
     "base_uri": "https://localhost:8080/"
    },
    "id": "2a3c6b38137e19c",
    "outputId": "dd7d3cbe-24bc-450d-a8ac-929cc4381b61",
    "slideshow": {
     "slide_type": "subslide"
    }
   },
   "source": [
    "# A grid kvantumbit kritikus a nagyobb hardverek esetén az indexeléshez. Nézd meg a google Sycamore processzorának a felosztását.\n",
    "print(cirq_google.Sycamore)"
   ],
   "outputs": [],
   "execution_count": null
  },
  {
   "cell_type": "markdown",
   "id": "798f9f48439ae6cf",
   "metadata": {
    "id": "798f9f48439ae6cf",
    "slideshow": {
     "slide_type": "slide"
    }
   },
   "source": [
    "## Áramkörök\n",
    "\n",
    "Az fő objektum a Circuit amit kapukkal feltöltünk. Két fő módszer létezik arra hogy hozzáadjunk egy áramkörhöz kapukat:\n",
    "+ konstruktorban: Circuit([kapuk])\n",
    "+ Hozzátoldva: circuit.append(kapu)"
   ]
  },
  {
   "cell_type": "code",
   "id": "b645bac61c72d1a7",
   "metadata": {
    "colab": {
     "base_uri": "https://localhost:8080/"
    },
    "id": "b645bac61c72d1a7",
    "outputId": "5ce7b3b3-d995-453c-cd3d-aad6b59c5871",
    "slideshow": {
     "slide_type": "subslide"
    }
   },
   "source": [
    "# Hozz létre egy áramkört\n",
    "circuit =\n",
    "\n",
    "# Hozz létre négy kvantumbitet\n",
    "qubits =\n",
    "\n",
    "# Hozz létre egy X kaput, egy H kaput, egy Ry(π) kaput a létrehozott kvantumbitek segítségével\n",
    "g1 =\n",
    "g2 =\n",
    "g3 =\n",
    "\n",
    "# Add hozzá a kapukat az áramkörhöz\n",
    "circuit.append([g1, g2, g3])\n",
    "\n",
    "# Figyeld meg a létrehozott áramkört\n",
    "print(circuit)"
   ],
   "outputs": [],
   "execution_count": null
  },
  {
   "cell_type": "markdown",
   "id": "61ce3a56a933d092",
   "metadata": {
    "id": "61ce3a56a933d092",
    "slideshow": {
     "slide_type": "slide"
    }
   },
   "source": [
    "## Komplex áramkörök\n",
    "\n",
    "A qiskithez hasonlóan itt is van lehetőség egy áramkörhöz egy már létező áramkört hozzáadni. Fontos hogy az áramkört elötte le kell \"freeze\"-lni, így jelezve hogy azon több módosítást nem végzünk majd.\n",
    "\n",
    "\n",
    "\n",
    "\n"
   ]
  },
  {
   "cell_type": "code",
   "id": "26cc76be35132f86",
   "metadata": {
    "colab": {
     "base_uri": "https://localhost:8080/"
    },
    "id": "26cc76be35132f86",
    "outputId": "0600611f-8869-45ec-c2fe-55884aa51790",
    "slideshow": {
     "slide_type": "subslide"
    }
   },
   "source": [
    "# Hozz létre két új tetszőleges áramkört, az első áljon 3 kvantumbitből a második 1-ből.\n",
    "qubit =\n",
    "circuit1 =\n",
    "circuit2 =\n",
    "\n",
    "# A második létrehozott áramkörből hozz létre egy CirucitOperation-t\n",
    "circ_op =\n",
    "\n",
    "# Add hozzá az első áramkörhöz az másodikat\n",
    "circuit1.append()\n",
    "\n",
    "\n",
    "print(circuit1)"
   ],
   "outputs": [],
   "execution_count": null
  },
  {
   "cell_type": "code",
   "id": "29baf63557d4cb2b",
   "metadata": {
    "colab": {
     "base_uri": "https://localhost:8080/"
    },
    "id": "29baf63557d4cb2b",
    "outputId": "78289f3d-44cc-400e-fd8a-a8e719c39395",
    "slideshow": {
     "slide_type": "subslide"
    }
   },
   "source": [
    "# A CircuitOperation repeat funkcióját használva add hozzá 10-szer a második áramkört\n",
    "circuit1.append()\n",
    "\n",
    "print(circuit1)"
   ],
   "outputs": [],
   "execution_count": null
  },
  {
   "cell_type": "markdown",
   "id": "2995c7cd26904f5a",
   "metadata": {
    "id": "2995c7cd26904f5a",
    "slideshow": {
     "slide_type": "slide"
    }
   },
   "source": [
    "## Moments\n",
    "\n",
    "A Cirq könyvtárban a momentumoknak hívjuk a kapuknak egy halmazát amik egy időegységben hajtódnak végre. Úgy is lehet rájuk gondolni hogy minden oszlop az áramkörben egy momentum.\n",
    "Egy új momentumot a Moment(kapu) segítségével tudunk létrehozni. Egy másik megoldás hogy a circuit.append() funkció strategy=InsertStrategy.VALAMI paraméterét használjuk."
   ]
  },
  {
   "cell_type": "code",
   "id": "b2dc4fed1f988295",
   "metadata": {
    "colab": {
     "base_uri": "https://localhost:8080/"
    },
    "id": "b2dc4fed1f988295",
    "outputId": "a4c79554-8174-47db-96f6-63361b68ee87",
    "slideshow": {
     "slide_type": "subslide"
    }
   },
   "source": [
    "# Hozd létre az előző áramkört, úgy hogy ne legyen egy oszlopban két kapu a Moment funkció segítségével.\n",
    "circuit_moment = cirq.Circuit()\n",
    "print(circuit_moment)\n"
   ],
   "outputs": [],
   "execution_count": null
  },
  {
   "cell_type": "markdown",
   "id": "7f9994d12c1adcf3",
   "metadata": {
    "id": "7f9994d12c1adcf3",
    "slideshow": {
     "slide_type": "slide"
    }
   },
   "source": [
    "## Futtatás (Szimuláció)\n",
    "Egy áramkört a Simulator objektum segítségével lehet futtatni. Két fő módja a futtatásnak:\n",
    "+ sim.simulate(circuit)\n",
    "    + Nem szükséges mérni, a végső állapotot számolja ki\n",
    "    + A kimenet egy sor kvantumállapot   \n",
    "+ sim.run(circuit, repetitions=1000)   \n",
    "    + Szükséges mérni, mérési eredményeket adja vissza.   "
   ]
  },
  {
   "cell_type": "code",
   "id": "d2fb0917c698e109",
   "metadata": {
    "colab": {
     "base_uri": "https://localhost:8080/"
    },
    "id": "d2fb0917c698e109",
    "outputId": "81d124db-c9b5-4bb6-b90b-63f696e9cd5a",
    "slideshow": {
     "slide_type": "subslide"
    }
   },
   "source": [
    "# Hoz létre egy bell állapotot\n",
    "bell_circuit = cirq.Circuit()\n",
    "\n",
    "\n",
    "# Inicializáld a szimulátort\n",
    "s =\n",
    "\n",
    "# Szimuláld az áramkört\n",
    "results =\n",
    "print(results)\n",
    "\n",
    "\n"
   ],
   "outputs": [],
   "execution_count": null
  },
  {
   "cell_type": "code",
   "id": "8145cbc2fde6d5da",
   "metadata": {
    "id": "8145cbc2fde6d5da",
    "outputId": "d14ca88e-d664-4148-fb93-b382c82076e7",
    "slideshow": {
     "slide_type": "subslide"
    }
   },
   "source": [
    "# Adj hozzá mérést az áramkörhöz\n",
    "bell_circuit.append()\n",
    "\n",
    "# Futtasd újra a szimulációt\n",
    "res =\n",
    "print(res)"
   ],
   "outputs": [],
   "execution_count": null
  },
  {
   "cell_type": "code",
   "id": "52bed53d4f6efbf",
   "metadata": {
    "id": "52bed53d4f6efbf",
    "outputId": "bd2e7341-fbc2-431c-a7f4-9aff31755279",
    "slideshow": {
     "slide_type": "subslide"
    }
   },
   "source": [
    "# Használd a .run funkciót hogy futtasd 2000-szer a létrehozott áramkört\n",
    "samples =\n",
    "\n",
    "# plot_state_histogram függvény segítségével vizualizáld az eredményeket\n",
    "cirq.plot_state_histogram(samples,plt.subplot())\n",
    "plt.show()\n"
   ],
   "outputs": [],
   "execution_count": null
  },
  {
   "cell_type": "code",
   "id": "b2e59b01e8da5a97",
   "metadata": {
    "id": "b2e59b01e8da5a97",
    "slideshow": {
     "slide_type": "subslide"
    }
   },
   "source": [
    "# Hozd létre egy áramkörön belül mind a négy nevezetes bell állapotot\n",
    "\n",
    "\n",
    "# Futtasd 2000-szer az áramkort\n",
    "\n",
    "\n",
    "# Vizualizáld az eredményeket\n",
    "\n"
   ],
   "outputs": [],
   "execution_count": null
  },
  {
   "cell_type": "markdown",
   "id": "7c90f63da3069a07",
   "metadata": {
    "id": "7c90f63da3069a07",
    "slideshow": {
     "slide_type": "slide"
    }
   },
   "source": [
    "## Parametrizálás\n",
    "\n",
    "Cirq-ben van lehetőség arra hogy több paraméter mentén futtassuk az áramköröket. A funkció igazi hasznát komplexebb feladatoknál lehet látni mint a Variational Quantum Eigensolver, az egyszerűség kedvéért itt egy egyszerűbb példát fogunk használni.\n",
    "A Parametrikus futtatáshoz szükséges:\n",
    "+ sympy.Symbol('param'): A paramétert a sympy könyvtár Symbol objektuma segítségével hozzuk létre az áramkörben. Ugyanúgy kell használni mint ahogy bármilyen constant használánk.  \n",
    "+ Linspace('param',start,stop,length): A Linspace objektum határozza meg paraméter által felvehető értékeket.\n",
    "+ run_sweep(circuit, param_sweep,repetitions): Speciális run funkció a parametrikus futtatáshoz."
   ]
  },
  {
   "cell_type": "code",
   "id": "a22d9291d05a1ee0",
   "metadata": {
    "id": "a22d9291d05a1ee0",
    "outputId": "2f020e9f-e391-4289-caab-682e36d51b35",
    "slideshow": {
     "slide_type": "subslide"
    }
   },
   "source": [
    "import sympy\n",
    "# Hoz létre egy áramkört ahol parametrizált a forgatást hajtasz végre egy választott tengely mentén. Az áramkör tartalmazzon egy mérést az 'm' kulcsal.\n",
    "q =\n",
    "\n",
    "# Hozd létre paraméter által felvehető értékteret.\n",
    "param_sweep =\n",
    "\n",
    "\n",
    "# Futtasd a paraméterbecslést ezer ismétléssel.\n",
    "s = cirq.Simulator()\n",
    "results =\n",
    "\n",
    "\n",
    "# Nézd meg az eredményt!\n",
    "x_data = [trial.params['theta'] for trial in results]\n",
    "y_data = [trial.histogram(key='m')[1] / 1000.0 for trial in results]\n",
    "plt.scatter('theta', 'p', data={'theta': x_data, 'p': y_data})\n",
    "plt.xlabel(\"Próbák\")\n",
    "plt.ylabel(\"Mért bit 1es állapotának frekvenciája\")\n",
    "plt.show()\n",
    "\n"
   ],
   "outputs": [],
   "execution_count": null
  },
  {
   "cell_type": "code",
   "id": "47824b3ffe6ae912",
   "metadata": {
    "id": "47824b3ffe6ae912",
    "slideshow": {
     "slide_type": "subslide"
    }
   },
   "source": [
    "# Készítsd el az előző feladatot a maradék két tengely melletti forgatásokkal is külön kölön!\n",
    "\n"
   ],
   "outputs": [],
   "execution_count": null
  },
  {
   "cell_type": "code",
   "id": "f7fa5868131788ef",
   "metadata": {
    "id": "f7fa5868131788ef",
    "slideshow": {
     "slide_type": "subslide"
    }
   },
   "source": [
    "# Bónusz Feladat:\n",
    "# Hoz létre egy sweepet mind a három forgatás mentén egyszerre!\n",
    "\n"
   ],
   "outputs": [],
   "execution_count": null
  },
  {
   "cell_type": "markdown",
   "id": "58e732fdf9b6a4cf",
   "metadata": {
    "id": "58e732fdf9b6a4cf",
    "slideshow": {
     "slide_type": "slide"
    }
   },
   "source": [
    "## Algoritmusok implementációja Qirq-el\n",
    "\n"
   ]
  },
  {
   "metadata": {},
   "cell_type": "markdown",
   "source": [
    "### Kvantumteleportáció\n",
    "\n",
    "Hozz létre egy három kvantumbites rendszert. A létrehozott rendszdszer segítségével mutasd be a kvantumteleportációt"
   ],
   "id": "8772278bc9658c17"
  },
  {
   "cell_type": "code",
   "id": "73bb789857d5e370",
   "metadata": {
    "id": "73bb789857d5e370",
    "slideshow": {
     "slide_type": "subslide"
    }
   },
   "source": [
    "from cirq import X,Z,H,CX\n",
    "\n",
    "# Kvantumteleportáció\n",
    "qc_tele = cirq.Circuit()\n",
    "\n",
    "\n",
    "\n",
    "# State prep\n",
    "\n",
    "\n",
    "# Entanglement\n",
    "\n",
    "\n",
    "# Teleport\n",
    "\n",
    "\n",
    "\n",
    "\n",
    "\n",
    "s = cirq.Simulator()\n",
    "\n",
    "# Szimuláld az áramkört\n",
    "results = s.simulate(qc_tele)\n",
    "\n",
    "print(results)"
   ],
   "outputs": [],
   "execution_count": null
  },
  {
   "metadata": {},
   "cell_type": "markdown",
   "source": [
    "### Szupersűrű kódolás\n",
    "\n",
    "Hozz létre egy két kvantumbites rendszert. A létrehozott rendszdszer segítségével mutasd be a Szupersűrű kódolást."
   ],
   "id": "e7a4ac7e5109c6e9"
  },
  {
   "cell_type": "code",
   "id": "fb7cbd0232876986",
   "metadata": {
    "id": "fb7cbd0232876986",
    "slideshow": {
     "slide_type": "subslide"
    }
   },
   "source": [
    "# Szupersűrűkódolás\n",
    "#ZX\n",
    "\n",
    "\n",
    "## Qubits\n",
    "\n",
    "\n",
    "## Entanglement\n",
    "\n",
    "\n",
    "\n",
    "\n",
    "## Info encoding\n",
    "\n",
    "\n",
    "\n",
    "## BSM\n",
    "\n",
    "\n",
    "\n",
    "\n",
    "## Measurement\n",
    "\n",
    "\n",
    "\n",
    "## Run\n",
    "s = cirq.Simulator()\n",
    "\n",
    "results = s.simulate(qc_code)\n",
    "\n",
    "print(results)\n"
   ],
   "outputs": [],
   "execution_count": null
  },
  {
   "metadata": {},
   "cell_type": "markdown",
   "source": "### Extra feladat: Készítsd egy egy iteratív verzióját a szupersűrű kodolásnak",
   "id": "52e7f6581e70f3d9"
  },
  {
   "metadata": {},
   "cell_type": "code",
   "source": "",
   "id": "774050632218bf54",
   "outputs": [],
   "execution_count": null
  },
  {
   "metadata": {},
   "cell_type": "markdown",
   "source": [
    "## EXTRA: Deutsch Jozsa\n",
    "\n",
    "Hoz létre egy n = 2 méretű áramkőrt majd mutasd be rajta a Deutsch-Jozsa algoritmust a 3 függvény segítségével\n"
   ],
   "id": "c18c7640e2a695c2"
  },
  {
   "metadata": {},
   "cell_type": "code",
   "source": [
    "from cirq import CCX\n",
    "\n",
    "\n",
    "# Help stuff\n",
    "def create_konstant_fun(arguments, target):\n",
    "    yield X(target)\n",
    "\n",
    "def create_balanced_fun(arguments, target):\n",
    "    yield CX(arguments[0],target)\n",
    "\n",
    "\n",
    "def create_balanced_fun_2(arguments, target):\n",
    "    yield CCX(arguments[0],arguments[1],target)\n"
   ],
   "id": "b171b97270ca7c",
   "outputs": [],
   "execution_count": null
  },
  {
   "metadata": {},
   "cell_type": "code",
   "source": [
    "# Deuthsch Jozsa algo\n",
    "\n",
    "\n",
    "\n"
   ],
   "id": "109e862ed9dca000",
   "outputs": [],
   "execution_count": null
  }
 ],
 "metadata": {
  "celltoolbar": "Slideshow",
  "colab": {
   "provenance": []
  },
  "kernelspec": {
   "display_name": "Python 3 (ipykernel)",
   "language": "python",
   "name": "python3"
  },
  "language_info": {
   "codemirror_mode": {
    "name": "ipython",
    "version": 3
   },
   "file_extension": ".py",
   "mimetype": "text/x-python",
   "name": "python",
   "nbconvert_exporter": "python",
   "pygments_lexer": "ipython3",
   "version": "3.11.10"
  }
 },
 "nbformat": 4,
 "nbformat_minor": 5
}
